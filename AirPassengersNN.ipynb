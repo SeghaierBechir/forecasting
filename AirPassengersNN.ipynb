{
  "nbformat": 4,
  "nbformat_minor": 0,
  "metadata": {
    "colab": {
      "name": "AirPassengersNN.ipynb",
      "provenance": []
    },
    "kernelspec": {
      "name": "python3",
      "display_name": "Python 3"
    },
    "language_info": {
      "name": "python"
    },
    "accelerator": "GPU"
  },
  "cells": [
    {
      "cell_type": "code",
      "metadata": {
        "id": "0UyMfRITzvzF"
      },
      "source": [
        "import numpy as np\n",
        "import pandas as pd\n",
        "import seaborn as sns\n",
        "import matplotlib.pyplot as plt\n",
        "import math\n",
        "from keras.models import Sequential\n",
        "from keras.layers import Dense\n",
        "from sklearn.preprocessing import MinMaxScaler\n",
        "from sklearn.metrics import mean_squared_error"
      ],
      "execution_count": 34,
      "outputs": []
    },
    {
      "cell_type": "code",
      "metadata": {
        "colab": {
          "base_uri": "https://localhost:8080/",
          "height": 204
        },
        "id": "zhaiGCtN1C7q",
        "outputId": "4312e145-f37a-4943-b802-9778848f878a"
      },
      "source": [
        "df = pd.read_csv('AirPassengers.csv',usecols=[1])\n",
        "df.head()"
      ],
      "execution_count": 35,
      "outputs": [
        {
          "output_type": "execute_result",
          "data": {
            "text/html": [
              "<div>\n",
              "<style scoped>\n",
              "    .dataframe tbody tr th:only-of-type {\n",
              "        vertical-align: middle;\n",
              "    }\n",
              "\n",
              "    .dataframe tbody tr th {\n",
              "        vertical-align: top;\n",
              "    }\n",
              "\n",
              "    .dataframe thead th {\n",
              "        text-align: right;\n",
              "    }\n",
              "</style>\n",
              "<table border=\"1\" class=\"dataframe\">\n",
              "  <thead>\n",
              "    <tr style=\"text-align: right;\">\n",
              "      <th></th>\n",
              "      <th>#Passengers</th>\n",
              "    </tr>\n",
              "  </thead>\n",
              "  <tbody>\n",
              "    <tr>\n",
              "      <th>0</th>\n",
              "      <td>112</td>\n",
              "    </tr>\n",
              "    <tr>\n",
              "      <th>1</th>\n",
              "      <td>118</td>\n",
              "    </tr>\n",
              "    <tr>\n",
              "      <th>2</th>\n",
              "      <td>132</td>\n",
              "    </tr>\n",
              "    <tr>\n",
              "      <th>3</th>\n",
              "      <td>129</td>\n",
              "    </tr>\n",
              "    <tr>\n",
              "      <th>4</th>\n",
              "      <td>121</td>\n",
              "    </tr>\n",
              "  </tbody>\n",
              "</table>\n",
              "</div>"
            ],
            "text/plain": [
              "   #Passengers\n",
              "0          112\n",
              "1          118\n",
              "2          132\n",
              "3          129\n",
              "4          121"
            ]
          },
          "metadata": {},
          "execution_count": 35
        }
      ]
    },
    {
      "cell_type": "code",
      "metadata": {
        "colab": {
          "base_uri": "https://localhost:8080/",
          "height": 204
        },
        "id": "SOaN7Q6v1QnJ",
        "outputId": "787bf063-628a-4349-d180-479842fb3fba"
      },
      "source": [
        "df.rename(columns = {'#Passengers':'Passengers'}, inplace = True)\n",
        "df.head()"
      ],
      "execution_count": 36,
      "outputs": [
        {
          "output_type": "execute_result",
          "data": {
            "text/html": [
              "<div>\n",
              "<style scoped>\n",
              "    .dataframe tbody tr th:only-of-type {\n",
              "        vertical-align: middle;\n",
              "    }\n",
              "\n",
              "    .dataframe tbody tr th {\n",
              "        vertical-align: top;\n",
              "    }\n",
              "\n",
              "    .dataframe thead th {\n",
              "        text-align: right;\n",
              "    }\n",
              "</style>\n",
              "<table border=\"1\" class=\"dataframe\">\n",
              "  <thead>\n",
              "    <tr style=\"text-align: right;\">\n",
              "      <th></th>\n",
              "      <th>Passengers</th>\n",
              "    </tr>\n",
              "  </thead>\n",
              "  <tbody>\n",
              "    <tr>\n",
              "      <th>0</th>\n",
              "      <td>112</td>\n",
              "    </tr>\n",
              "    <tr>\n",
              "      <th>1</th>\n",
              "      <td>118</td>\n",
              "    </tr>\n",
              "    <tr>\n",
              "      <th>2</th>\n",
              "      <td>132</td>\n",
              "    </tr>\n",
              "    <tr>\n",
              "      <th>3</th>\n",
              "      <td>129</td>\n",
              "    </tr>\n",
              "    <tr>\n",
              "      <th>4</th>\n",
              "      <td>121</td>\n",
              "    </tr>\n",
              "  </tbody>\n",
              "</table>\n",
              "</div>"
            ],
            "text/plain": [
              "   Passengers\n",
              "0         112\n",
              "1         118\n",
              "2         132\n",
              "3         129\n",
              "4         121"
            ]
          },
          "metadata": {},
          "execution_count": 36
        }
      ]
    },
    {
      "cell_type": "code",
      "metadata": {
        "id": "yaLXzQx22U8L"
      },
      "source": [
        "plt.style.use('dark_background')"
      ],
      "execution_count": 37,
      "outputs": []
    },
    {
      "cell_type": "code",
      "metadata": {
        "colab": {
          "base_uri": "https://localhost:8080/",
          "height": 282
        },
        "id": "h41jvam61Uqu",
        "outputId": "65d13990-d0d4-4088-a91d-8045c4f0b883"
      },
      "source": [
        "plt.plot(df)"
      ],
      "execution_count": 38,
      "outputs": [
        {
          "output_type": "execute_result",
          "data": {
            "text/plain": [
              "[<matplotlib.lines.Line2D at 0x7f48d3dafad0>]"
            ]
          },
          "metadata": {},
          "execution_count": 38
        },
        {
          "output_type": "display_data",
          "data": {
            "image/png": "[encoded data removed]",
            "text/plain": [
              "<Figure size 432x288 with 1 Axes>"
            ]
          },
          "metadata": {}
        }
      ]
    },
    {
      "cell_type": "code",
      "metadata": {
        "id": "vsMI_4-u2r8y"
      },
      "source": [
        "dataset = df.values\n",
        "dataset = dataset.astype('float32')"
      ],
      "execution_count": 39,
      "outputs": []
    },
    {
      "cell_type": "code",
      "metadata": {
        "id": "uyLxwtvf23f4"
      },
      "source": [
        "scaler = MinMaxScaler(feature_range=(0,1))\n",
        "dataset = scaler.fit_transform(dataset)"
      ],
      "execution_count": 40,
      "outputs": []
    },
    {
      "cell_type": "code",
      "metadata": {
        "id": "_iJbgfih3i_Y"
      },
      "source": [
        "print(dataset)"
      ],
      "execution_count": null,
      "outputs": []
    },
    {
      "cell_type": "markdown",
      "metadata": {
        "id": "gdKebS_v34Vt"
      },
      "source": [
        "#splitting data"
      ]
    },
    {
      "cell_type": "code",
      "metadata": {
        "id": "j86ygVw736Fa"
      },
      "source": [
        "train_size = int(len(dataset) * 0.66)\n",
        "test_size = len(dataset) - train_size\n",
        "train, test = dataset[0:train_size,:], dataset[train_size:len(dataset),:]"
      ],
      "execution_count": 42,
      "outputs": []
    },
    {
      "cell_type": "code",
      "metadata": {
        "colab": {
          "base_uri": "https://localhost:8080/"
        },
        "id": "Cb8jwT7y4sJ4",
        "outputId": "3243c2d4-8587-4db3-b7a6-7a1f7e34a1e8"
      },
      "source": [
        "train.shape"
      ],
      "execution_count": 43,
      "outputs": [
        {
          "output_type": "execute_result",
          "data": {
            "text/plain": [
              "(95, 1)"
            ]
          },
          "metadata": {},
          "execution_count": 43
        }
      ]
    },
    {
      "cell_type": "code",
      "metadata": {
        "colab": {
          "base_uri": "https://localhost:8080/"
        },
        "id": "WPAtZso24wV0",
        "outputId": "50898107-47d2-4484-c575-48d11994c919"
      },
      "source": [
        "test.shape"
      ],
      "execution_count": 44,
      "outputs": [
        {
          "output_type": "execute_result",
          "data": {
            "text/plain": [
              "(49, 1)"
            ]
          },
          "metadata": {},
          "execution_count": 44
        }
      ]
    },
    {
      "cell_type": "code",
      "metadata": {
        "id": "xHPlAf3Q5JVN"
      },
      "source": [
        "def to_sequences(dataset,seq_size=1):\n",
        "  x=[]\n",
        "  y=[]\n",
        "  for i in range(len(dataset)-seq_size-1):\n",
        "    window = dataset[i:(i+seq_size),0]\n",
        "    x.append(window)\n",
        "    y.append(dataset[i+seq_size,0])\n",
        "\n",
        "  return np.array(x),np.array(y)"
      ],
      "execution_count": 45,
      "outputs": []
    },
    {
      "cell_type": "code",
      "metadata": {
        "id": "2iTkg0NL5--8"
      },
      "source": [
        "seq_size = 5"
      ],
      "execution_count": 46,
      "outputs": []
    },
    {
      "cell_type": "code",
      "metadata": {
        "id": "fKSrDjsB6Ep3"
      },
      "source": [
        "trainX,trainY=to_sequences(train,seq_size)\n",
        "testX,testY=to_sequences(test,seq_size)"
      ],
      "execution_count": 47,
      "outputs": []
    },
    {
      "cell_type": "code",
      "metadata": {
        "id": "CWFdw4aj6jil"
      },
      "source": [
        "print(train)"
      ],
      "execution_count": null,
      "outputs": []
    },
    {
      "cell_type": "code",
      "metadata": {
        "id": "_JY6ixZB7yNB"
      },
      "source": [
        "print(trainX)"
      ],
      "execution_count": null,
      "outputs": []
    },
    {
      "cell_type": "code",
      "metadata": {
        "id": "hO_jBXkx79NF"
      },
      "source": [
        "print(trainY)"
      ],
      "execution_count": null,
      "outputs": []
    },
    {
      "cell_type": "code",
      "metadata": {
        "colab": {
          "base_uri": "https://localhost:8080/"
        },
        "id": "Hnob1MFu8bYB",
        "outputId": "dedc0bec-f4ca-4bb0-c58f-02549674966b"
      },
      "source": [
        "print(\"shape of training set: {}\".format(trainX.shape))"
      ],
      "execution_count": 51,
      "outputs": [
        {
          "output_type": "stream",
          "text": [
            "shape of training set: (89, 5)\n"
          ],
          "name": "stdout"
        }
      ]
    },
    {
      "cell_type": "code",
      "metadata": {
        "colab": {
          "base_uri": "https://localhost:8080/"
        },
        "id": "2ezQJEsJ8pj_",
        "outputId": "3d827988-8756-42b8-dc6d-0114bd4e6c04"
      },
      "source": [
        "print(\"shape of test set: {}\".format(testX.shape))"
      ],
      "execution_count": 52,
      "outputs": [
        {
          "output_type": "stream",
          "text": [
            "shape of test set: (43, 5)\n"
          ],
          "name": "stdout"
        }
      ]
    },
    {
      "cell_type": "markdown",
      "metadata": {
        "id": "PGSsNNPe85J-"
      },
      "source": [
        "#Model"
      ]
    },
    {
      "cell_type": "code",
      "metadata": {
        "id": "lHEejrXc86C4"
      },
      "source": [
        "model= Sequential()\n",
        "model.add(Dense(64,input_dim=seq_size,activation='relu'))\n",
        "model.add(Dense(32,activation='relu'))\n",
        "model.add(Dense(1))"
      ],
      "execution_count": 55,
      "outputs": []
    },
    {
      "cell_type": "code",
      "metadata": {
        "colab": {
          "base_uri": "https://localhost:8080/"
        },
        "id": "QOUmaFB09aVA",
        "outputId": "a651edfb-892e-47a8-e88d-98696fc052bf"
      },
      "source": [
        "model.summary()"
      ],
      "execution_count": 56,
      "outputs": [
        {
          "output_type": "stream",
          "text": [
            "Model: \"sequential_2\"\n",
            "_________________________________________________________________\n",
            "Layer (type)                 Output Shape              Param #   \n",
            "=================================================================\n",
            "dense_6 (Dense)              (None, 64)                384       \n",
            "_________________________________________________________________\n",
            "dense_7 (Dense)              (None, 32)                2080      \n",
            "_________________________________________________________________\n",
            "dense_8 (Dense)              (None, 1)                 33        \n",
            "=================================================================\n",
            "Total params: 2,497\n",
            "Trainable params: 2,497\n",
            "Non-trainable params: 0\n",
            "_________________________________________________________________\n"
          ],
          "name": "stdout"
        }
      ]
    },
    {
      "cell_type": "code",
      "metadata": {
        "id": "0uO8gSQq9eLQ"
      },
      "source": [
        "model.compile(loss='mean_squared_error',optimizer='adam',metrics=['accuracy'])"
      ],
      "execution_count": 57,
      "outputs": []
    },
    {
      "cell_type": "code",
      "metadata": {
        "colab": {
          "base_uri": "https://localhost:8080/"
        },
        "id": "r4uRngUB-EgK",
        "outputId": "8bc1195e-873e-470a-b9f1-dc676d6f4bd7"
      },
      "source": [
        "model.fit(trainX,trainY,verbose=1, epochs=100,validation_data=(testX,testY))"
      ],
      "execution_count": 58,
      "outputs": [
        {
          "output_type": "stream",
          "text": [
            "Epoch 1/100\n",
            "3/3 [==============================] - 3s 97ms/step - loss: 0.0635 - accuracy: 0.0112 - val_loss: 0.2767 - val_accuracy: 0.0000e+00\n",
            "Epoch 2/100\n",
            "3/3 [==============================] - 0s 15ms/step - loss: 0.0358 - accuracy: 0.0112 - val_loss: 0.1631 - val_accuracy: 0.0000e+00\n",
            "Epoch 3/100\n",
            "3/3 [==============================] - 0s 14ms/step - loss: 0.0196 - accuracy: 0.0112 - val_loss: 0.0892 - val_accuracy: 0.0000e+00\n",
            "Epoch 4/100\n",
            "3/3 [==============================] - 0s 14ms/step - loss: 0.0100 - accuracy: 0.0112 - val_loss: 0.0493 - val_accuracy: 0.0000e+00\n",
            "Epoch 5/100\n",
            "3/3 [==============================] - 0s 14ms/step - loss: 0.0069 - accuracy: 0.0112 - val_loss: 0.0331 - val_accuracy: 0.0233\n",
            "Epoch 6/100\n",
            "3/3 [==============================] - 0s 14ms/step - loss: 0.0071 - accuracy: 0.0112 - val_loss: 0.0290 - val_accuracy: 0.0233\n",
            "Epoch 7/100\n",
            "3/3 [==============================] - 0s 15ms/step - loss: 0.0079 - accuracy: 0.0112 - val_loss: 0.0277 - val_accuracy: 0.0233\n",
            "Epoch 8/100\n",
            "3/3 [==============================] - 0s 14ms/step - loss: 0.0076 - accuracy: 0.0112 - val_loss: 0.0258 - val_accuracy: 0.0233\n",
            "Epoch 9/100\n",
            "3/3 [==============================] - 0s 14ms/step - loss: 0.0064 - accuracy: 0.0112 - val_loss: 0.0237 - val_accuracy: 0.0233\n",
            "Epoch 10/100\n",
            "3/3 [==============================] - 0s 15ms/step - loss: 0.0049 - accuracy: 0.0112 - val_loss: 0.0239 - val_accuracy: 0.0233\n",
            "Epoch 11/100\n",
            "3/3 [==============================] - 0s 14ms/step - loss: 0.0041 - accuracy: 0.0112 - val_loss: 0.0268 - val_accuracy: 0.0233\n",
            "Epoch 12/100\n",
            "3/3 [==============================] - 0s 15ms/step - loss: 0.0042 - accuracy: 0.0112 - val_loss: 0.0283 - val_accuracy: 0.0233\n",
            "Epoch 13/100\n",
            "3/3 [==============================] - 0s 18ms/step - loss: 0.0043 - accuracy: 0.0112 - val_loss: 0.0267 - val_accuracy: 0.0233\n",
            "Epoch 14/100\n",
            "3/3 [==============================] - 0s 24ms/step - loss: 0.0040 - accuracy: 0.0112 - val_loss: 0.0232 - val_accuracy: 0.0233\n",
            "Epoch 15/100\n",
            "3/3 [==============================] - 0s 18ms/step - loss: 0.0036 - accuracy: 0.0112 - val_loss: 0.0206 - val_accuracy: 0.0233\n",
            "Epoch 16/100\n",
            "3/3 [==============================] - 0s 18ms/step - loss: 0.0034 - accuracy: 0.0112 - val_loss: 0.0192 - val_accuracy: 0.0233\n",
            "Epoch 17/100\n",
            "3/3 [==============================] - 0s 25ms/step - loss: 0.0035 - accuracy: 0.0112 - val_loss: 0.0183 - val_accuracy: 0.0233\n",
            "Epoch 18/100\n",
            "3/3 [==============================] - 0s 14ms/step - loss: 0.0034 - accuracy: 0.0112 - val_loss: 0.0174 - val_accuracy: 0.0233\n",
            "Epoch 19/100\n",
            "3/3 [==============================] - 0s 16ms/step - loss: 0.0032 - accuracy: 0.0112 - val_loss: 0.0170 - val_accuracy: 0.0233\n",
            "Epoch 20/100\n",
            "3/3 [==============================] - 0s 15ms/step - loss: 0.0032 - accuracy: 0.0112 - val_loss: 0.0172 - val_accuracy: 0.0233\n",
            "Epoch 21/100\n",
            "3/3 [==============================] - 0s 14ms/step - loss: 0.0031 - accuracy: 0.0112 - val_loss: 0.0166 - val_accuracy: 0.0233\n",
            "Epoch 22/100\n",
            "3/3 [==============================] - 0s 22ms/step - loss: 0.0030 - accuracy: 0.0112 - val_loss: 0.0158 - val_accuracy: 0.0233\n",
            "Epoch 23/100\n",
            "3/3 [==============================] - 0s 14ms/step - loss: 0.0029 - accuracy: 0.0112 - val_loss: 0.0153 - val_accuracy: 0.0233\n",
            "Epoch 24/100\n",
            "3/3 [==============================] - 0s 15ms/step - loss: 0.0029 - accuracy: 0.0112 - val_loss: 0.0149 - val_accuracy: 0.0233\n",
            "Epoch 25/100\n",
            "3/3 [==============================] - 0s 14ms/step - loss: 0.0029 - accuracy: 0.0112 - val_loss: 0.0148 - val_accuracy: 0.0233\n",
            "Epoch 26/100\n",
            "3/3 [==============================] - 0s 14ms/step - loss: 0.0028 - accuracy: 0.0112 - val_loss: 0.0146 - val_accuracy: 0.0233\n",
            "Epoch 27/100\n",
            "3/3 [==============================] - 0s 15ms/step - loss: 0.0028 - accuracy: 0.0112 - val_loss: 0.0146 - val_accuracy: 0.0233\n",
            "Epoch 28/100\n",
            "3/3 [==============================] - 0s 14ms/step - loss: 0.0027 - accuracy: 0.0112 - val_loss: 0.0145 - val_accuracy: 0.0233\n",
            "Epoch 29/100\n",
            "3/3 [==============================] - 0s 16ms/step - loss: 0.0027 - accuracy: 0.0112 - val_loss: 0.0144 - val_accuracy: 0.0233\n",
            "Epoch 30/100\n",
            "3/3 [==============================] - 0s 14ms/step - loss: 0.0027 - accuracy: 0.0112 - val_loss: 0.0140 - val_accuracy: 0.0233\n",
            "Epoch 31/100\n",
            "3/3 [==============================] - 0s 15ms/step - loss: 0.0026 - accuracy: 0.0112 - val_loss: 0.0135 - val_accuracy: 0.0233\n",
            "Epoch 32/100\n",
            "3/3 [==============================] - 0s 15ms/step - loss: 0.0026 - accuracy: 0.0112 - val_loss: 0.0132 - val_accuracy: 0.0233\n",
            "Epoch 33/100\n",
            "3/3 [==============================] - 0s 14ms/step - loss: 0.0025 - accuracy: 0.0112 - val_loss: 0.0129 - val_accuracy: 0.0233\n",
            "Epoch 34/100\n",
            "3/3 [==============================] - 0s 14ms/step - loss: 0.0025 - accuracy: 0.0112 - val_loss: 0.0127 - val_accuracy: 0.0233\n",
            "Epoch 35/100\n",
            "3/3 [==============================] - 0s 15ms/step - loss: 0.0025 - accuracy: 0.0112 - val_loss: 0.0127 - val_accuracy: 0.0233\n",
            "Epoch 36/100\n",
            "3/3 [==============================] - 0s 15ms/step - loss: 0.0025 - accuracy: 0.0112 - val_loss: 0.0127 - val_accuracy: 0.0233\n",
            "Epoch 37/100\n",
            "3/3 [==============================] - 0s 16ms/step - loss: 0.0024 - accuracy: 0.0112 - val_loss: 0.0125 - val_accuracy: 0.0233\n",
            "Epoch 38/100\n",
            "3/3 [==============================] - 0s 15ms/step - loss: 0.0024 - accuracy: 0.0112 - val_loss: 0.0123 - val_accuracy: 0.0233\n",
            "Epoch 39/100\n",
            "3/3 [==============================] - 0s 14ms/step - loss: 0.0024 - accuracy: 0.0112 - val_loss: 0.0122 - val_accuracy: 0.0233\n",
            "Epoch 40/100\n",
            "3/3 [==============================] - 0s 17ms/step - loss: 0.0024 - accuracy: 0.0112 - val_loss: 0.0123 - val_accuracy: 0.0233\n",
            "Epoch 41/100\n",
            "3/3 [==============================] - 0s 15ms/step - loss: 0.0023 - accuracy: 0.0112 - val_loss: 0.0118 - val_accuracy: 0.0233\n",
            "Epoch 42/100\n",
            "3/3 [==============================] - 0s 15ms/step - loss: 0.0023 - accuracy: 0.0112 - val_loss: 0.0115 - val_accuracy: 0.0233\n",
            "Epoch 43/100\n",
            "3/3 [==============================] - 0s 16ms/step - loss: 0.0023 - accuracy: 0.0112 - val_loss: 0.0115 - val_accuracy: 0.0233\n",
            "Epoch 44/100\n",
            "3/3 [==============================] - 0s 23ms/step - loss: 0.0022 - accuracy: 0.0112 - val_loss: 0.0117 - val_accuracy: 0.0233\n",
            "Epoch 45/100\n",
            "3/3 [==============================] - 0s 16ms/step - loss: 0.0022 - accuracy: 0.0112 - val_loss: 0.0117 - val_accuracy: 0.0233\n",
            "Epoch 46/100\n",
            "3/3 [==============================] - 0s 16ms/step - loss: 0.0022 - accuracy: 0.0112 - val_loss: 0.0119 - val_accuracy: 0.0233\n",
            "Epoch 47/100\n",
            "3/3 [==============================] - 0s 14ms/step - loss: 0.0022 - accuracy: 0.0112 - val_loss: 0.0115 - val_accuracy: 0.0233\n",
            "Epoch 48/100\n",
            "3/3 [==============================] - 0s 14ms/step - loss: 0.0022 - accuracy: 0.0112 - val_loss: 0.0106 - val_accuracy: 0.0233\n",
            "Epoch 49/100\n",
            "3/3 [==============================] - 0s 14ms/step - loss: 0.0021 - accuracy: 0.0112 - val_loss: 0.0108 - val_accuracy: 0.0233\n",
            "Epoch 50/100\n",
            "3/3 [==============================] - 0s 23ms/step - loss: 0.0021 - accuracy: 0.0112 - val_loss: 0.0109 - val_accuracy: 0.0233\n",
            "Epoch 51/100\n",
            "3/3 [==============================] - 0s 15ms/step - loss: 0.0021 - accuracy: 0.0112 - val_loss: 0.0106 - val_accuracy: 0.0233\n",
            "Epoch 52/100\n",
            "3/3 [==============================] - 0s 15ms/step - loss: 0.0021 - accuracy: 0.0112 - val_loss: 0.0107 - val_accuracy: 0.0233\n",
            "Epoch 53/100\n",
            "3/3 [==============================] - 0s 14ms/step - loss: 0.0021 - accuracy: 0.0112 - val_loss: 0.0109 - val_accuracy: 0.0233\n",
            "Epoch 54/100\n",
            "3/3 [==============================] - 0s 14ms/step - loss: 0.0020 - accuracy: 0.0112 - val_loss: 0.0104 - val_accuracy: 0.0233\n",
            "Epoch 55/100\n",
            "3/3 [==============================] - 0s 14ms/step - loss: 0.0020 - accuracy: 0.0112 - val_loss: 0.0097 - val_accuracy: 0.0233\n",
            "Epoch 56/100\n",
            "3/3 [==============================] - 0s 15ms/step - loss: 0.0020 - accuracy: 0.0112 - val_loss: 0.0098 - val_accuracy: 0.0233\n",
            "Epoch 57/100\n",
            "3/3 [==============================] - 0s 15ms/step - loss: 0.0020 - accuracy: 0.0112 - val_loss: 0.0103 - val_accuracy: 0.0233\n",
            "Epoch 58/100\n",
            "3/3 [==============================] - 0s 14ms/step - loss: 0.0020 - accuracy: 0.0112 - val_loss: 0.0105 - val_accuracy: 0.0233\n",
            "Epoch 59/100\n",
            "3/3 [==============================] - 0s 14ms/step - loss: 0.0019 - accuracy: 0.0112 - val_loss: 0.0100 - val_accuracy: 0.0233\n",
            "Epoch 60/100\n",
            "3/3 [==============================] - 0s 23ms/step - loss: 0.0019 - accuracy: 0.0112 - val_loss: 0.0094 - val_accuracy: 0.0233\n",
            "Epoch 61/100\n",
            "3/3 [==============================] - 0s 14ms/step - loss: 0.0019 - accuracy: 0.0112 - val_loss: 0.0093 - val_accuracy: 0.0233\n",
            "Epoch 62/100\n",
            "3/3 [==============================] - 0s 14ms/step - loss: 0.0019 - accuracy: 0.0112 - val_loss: 0.0099 - val_accuracy: 0.0233\n",
            "Epoch 63/100\n",
            "3/3 [==============================] - 0s 15ms/step - loss: 0.0019 - accuracy: 0.0112 - val_loss: 0.0096 - val_accuracy: 0.0233\n",
            "Epoch 64/100\n",
            "3/3 [==============================] - 0s 16ms/step - loss: 0.0019 - accuracy: 0.0112 - val_loss: 0.0092 - val_accuracy: 0.0233\n",
            "Epoch 65/100\n",
            "3/3 [==============================] - 0s 16ms/step - loss: 0.0019 - accuracy: 0.0112 - val_loss: 0.0089 - val_accuracy: 0.0233\n",
            "Epoch 66/100\n",
            "3/3 [==============================] - 0s 23ms/step - loss: 0.0018 - accuracy: 0.0112 - val_loss: 0.0094 - val_accuracy: 0.0233\n",
            "Epoch 67/100\n",
            "3/3 [==============================] - 0s 15ms/step - loss: 0.0018 - accuracy: 0.0112 - val_loss: 0.0096 - val_accuracy: 0.0233\n",
            "Epoch 68/100\n",
            "3/3 [==============================] - 0s 15ms/step - loss: 0.0018 - accuracy: 0.0112 - val_loss: 0.0091 - val_accuracy: 0.0233\n",
            "Epoch 69/100\n",
            "3/3 [==============================] - 0s 15ms/step - loss: 0.0018 - accuracy: 0.0112 - val_loss: 0.0088 - val_accuracy: 0.0233\n",
            "Epoch 70/100\n",
            "3/3 [==============================] - 0s 20ms/step - loss: 0.0018 - accuracy: 0.0112 - val_loss: 0.0088 - val_accuracy: 0.0233\n",
            "Epoch 71/100\n",
            "3/3 [==============================] - 0s 14ms/step - loss: 0.0018 - accuracy: 0.0112 - val_loss: 0.0089 - val_accuracy: 0.0233\n",
            "Epoch 72/100\n",
            "3/3 [==============================] - 0s 15ms/step - loss: 0.0017 - accuracy: 0.0112 - val_loss: 0.0087 - val_accuracy: 0.0233\n",
            "Epoch 73/100\n",
            "3/3 [==============================] - 0s 14ms/step - loss: 0.0017 - accuracy: 0.0112 - val_loss: 0.0087 - val_accuracy: 0.0233\n",
            "Epoch 74/100\n",
            "3/3 [==============================] - 0s 14ms/step - loss: 0.0017 - accuracy: 0.0112 - val_loss: 0.0086 - val_accuracy: 0.0233\n",
            "Epoch 75/100\n",
            "3/3 [==============================] - 0s 16ms/step - loss: 0.0017 - accuracy: 0.0112 - val_loss: 0.0087 - val_accuracy: 0.0233\n",
            "Epoch 76/100\n",
            "3/3 [==============================] - 0s 16ms/step - loss: 0.0017 - accuracy: 0.0112 - val_loss: 0.0085 - val_accuracy: 0.0233\n",
            "Epoch 77/100\n",
            "3/3 [==============================] - 0s 15ms/step - loss: 0.0017 - accuracy: 0.0112 - val_loss: 0.0083 - val_accuracy: 0.0233\n",
            "Epoch 78/100\n",
            "3/3 [==============================] - 0s 14ms/step - loss: 0.0017 - accuracy: 0.0112 - val_loss: 0.0080 - val_accuracy: 0.0233\n",
            "Epoch 79/100\n",
            "3/3 [==============================] - 0s 16ms/step - loss: 0.0017 - accuracy: 0.0112 - val_loss: 0.0087 - val_accuracy: 0.0233\n",
            "Epoch 80/100\n",
            "3/3 [==============================] - 0s 14ms/step - loss: 0.0017 - accuracy: 0.0112 - val_loss: 0.0088 - val_accuracy: 0.0233\n",
            "Epoch 81/100\n",
            "3/3 [==============================] - 0s 14ms/step - loss: 0.0017 - accuracy: 0.0112 - val_loss: 0.0079 - val_accuracy: 0.0233\n",
            "Epoch 82/100\n",
            "3/3 [==============================] - 0s 14ms/step - loss: 0.0016 - accuracy: 0.0112 - val_loss: 0.0079 - val_accuracy: 0.0233\n",
            "Epoch 83/100\n",
            "3/3 [==============================] - 0s 18ms/step - loss: 0.0016 - accuracy: 0.0112 - val_loss: 0.0083 - val_accuracy: 0.0233\n",
            "Epoch 84/100\n",
            "3/3 [==============================] - 0s 15ms/step - loss: 0.0017 - accuracy: 0.0112 - val_loss: 0.0086 - val_accuracy: 0.0233\n",
            "Epoch 85/100\n",
            "3/3 [==============================] - 0s 16ms/step - loss: 0.0016 - accuracy: 0.0112 - val_loss: 0.0078 - val_accuracy: 0.0233\n",
            "Epoch 86/100\n",
            "3/3 [==============================] - 0s 16ms/step - loss: 0.0017 - accuracy: 0.0112 - val_loss: 0.0073 - val_accuracy: 0.0233\n",
            "Epoch 87/100\n",
            "3/3 [==============================] - 0s 15ms/step - loss: 0.0016 - accuracy: 0.0112 - val_loss: 0.0082 - val_accuracy: 0.0233\n",
            "Epoch 88/100\n",
            "3/3 [==============================] - 0s 19ms/step - loss: 0.0016 - accuracy: 0.0112 - val_loss: 0.0086 - val_accuracy: 0.0233\n",
            "Epoch 89/100\n",
            "3/3 [==============================] - 0s 16ms/step - loss: 0.0016 - accuracy: 0.0112 - val_loss: 0.0077 - val_accuracy: 0.0233\n",
            "Epoch 90/100\n",
            "3/3 [==============================] - 0s 15ms/step - loss: 0.0016 - accuracy: 0.0112 - val_loss: 0.0073 - val_accuracy: 0.0233\n",
            "Epoch 91/100\n",
            "3/3 [==============================] - 0s 16ms/step - loss: 0.0016 - accuracy: 0.0112 - val_loss: 0.0073 - val_accuracy: 0.0233\n",
            "Epoch 92/100\n",
            "3/3 [==============================] - 0s 14ms/step - loss: 0.0016 - accuracy: 0.0112 - val_loss: 0.0082 - val_accuracy: 0.0233\n",
            "Epoch 93/100\n",
            "3/3 [==============================] - 0s 14ms/step - loss: 0.0016 - accuracy: 0.0112 - val_loss: 0.0078 - val_accuracy: 0.0233\n",
            "Epoch 94/100\n",
            "3/3 [==============================] - 0s 17ms/step - loss: 0.0015 - accuracy: 0.0112 - val_loss: 0.0070 - val_accuracy: 0.0233\n",
            "Epoch 95/100\n",
            "3/3 [==============================] - 0s 16ms/step - loss: 0.0016 - accuracy: 0.0112 - val_loss: 0.0070 - val_accuracy: 0.0233\n",
            "Epoch 96/100\n",
            "3/3 [==============================] - 0s 15ms/step - loss: 0.0015 - accuracy: 0.0112 - val_loss: 0.0078 - val_accuracy: 0.0233\n",
            "Epoch 97/100\n",
            "3/3 [==============================] - 0s 16ms/step - loss: 0.0015 - accuracy: 0.0112 - val_loss: 0.0078 - val_accuracy: 0.0233\n",
            "Epoch 98/100\n",
            "3/3 [==============================] - 0s 15ms/step - loss: 0.0015 - accuracy: 0.0112 - val_loss: 0.0075 - val_accuracy: 0.0233\n",
            "Epoch 99/100\n",
            "3/3 [==============================] - 0s 15ms/step - loss: 0.0015 - accuracy: 0.0112 - val_loss: 0.0069 - val_accuracy: 0.0233\n",
            "Epoch 100/100\n",
            "3/3 [==============================] - 0s 15ms/step - loss: 0.0015 - accuracy: 0.0112 - val_loss: 0.0073 - val_accuracy: 0.0233\n"
          ],
          "name": "stdout"
        },
        {
          "output_type": "execute_result",
          "data": {
            "text/plain": [
              "<keras.callbacks.History at 0x7f48d0139950>"
            ]
          },
          "metadata": {},
          "execution_count": 58
        }
      ]
    },
    {
      "cell_type": "markdown",
      "metadata": {
        "id": "HRxB-2df-vUC"
      },
      "source": [
        "#Predictions"
      ]
    },
    {
      "cell_type": "code",
      "metadata": {
        "id": "eQyC-4Tx-wlc"
      },
      "source": [
        "trainPredict = model.predict(trainX)\n",
        "testPredict = model.predict(testX)"
      ],
      "execution_count": 59,
      "outputs": []
    },
    {
      "cell_type": "code",
      "metadata": {
        "id": "gf8EhMUc_K0Y"
      },
      "source": [
        "trainPredict = scaler.inverse_transform(trainPredict)\n",
        "trainY_inverse = scaler.inverse_transform([trainY])\n",
        "testPredict = scaler.inverse_transform(testPredict)\n",
        "testY_inverse = scaler.inverse_transform([testY])"
      ],
      "execution_count": 60,
      "outputs": []
    },
    {
      "cell_type": "code",
      "metadata": {
        "colab": {
          "base_uri": "https://localhost:8080/"
        },
        "id": "6Ad5oU-x_cTD",
        "outputId": "b1701446-2a2f-4904-8b02-8b1d03e39aa8"
      },
      "source": [
        "trainScore = math.sqrt(mean_squared_error(trainY_inverse[0], trainPredict[:,0]))\n",
        "print('Train Score: %.2f RMSE' % (trainScore))"
      ],
      "execution_count": 63,
      "outputs": [
        {
          "output_type": "stream",
          "text": [
            "Train Score: 19.87 RMSE\n"
          ],
          "name": "stdout"
        }
      ]
    },
    {
      "cell_type": "code",
      "metadata": {
        "colab": {
          "base_uri": "https://localhost:8080/"
        },
        "id": "EwczwApN_wGI",
        "outputId": "c579f737-cec4-4c04-9c08-30222219f9e0"
      },
      "source": [
        "testScore = math.sqrt(mean_squared_error(testY_inverse[0], testPredict[:,0]))\n",
        "print('Test Score: %.2f RMSE' % (testScore))"
      ],
      "execution_count": 64,
      "outputs": [
        {
          "output_type": "stream",
          "text": [
            "Test Score: 44.33 RMSE\n"
          ],
          "name": "stdout"
        }
      ]
    },
    {
      "cell_type": "markdown",
      "metadata": {
        "id": "AM2KEl7tABdj"
      },
      "source": [
        "#forecasting"
      ]
    },
    {
      "cell_type": "code",
      "metadata": {
        "id": "aPItVXL5ADPW"
      },
      "source": [
        "trainPredictPlot = np.empty_like(dataset)\n",
        "trainPredictPlot[:, :] = np.nan\n",
        "trainPredictPlot[seq_size:len(trainPredict)+seq_size, :] = trainPredict"
      ],
      "execution_count": 65,
      "outputs": []
    },
    {
      "cell_type": "code",
      "metadata": {
        "id": "eHlg-A-MAJYm"
      },
      "source": [
        "testPredictPlot = np.empty_like(dataset)\n",
        "testPredictPlot[:, :] = np.nan\n",
        "testPredictPlot[len(trainPredict)+(seq_size*2)+1:len(dataset)-1, :] = testPredict"
      ],
      "execution_count": 66,
      "outputs": []
    },
    {
      "cell_type": "code",
      "metadata": {
        "colab": {
          "base_uri": "https://localhost:8080/",
          "height": 265
        },
        "id": "YiMKr5BqAMPr",
        "outputId": "c2d5b199-e878-4103-ec8c-1dc1dc055639"
      },
      "source": [
        "plt.plot(scaler.inverse_transform(dataset))\n",
        "plt.plot(trainPredictPlot)\n",
        "plt.plot(testPredictPlot)\n",
        "plt.show()"
      ],
      "execution_count": 67,
      "outputs": [
        {
          "output_type": "display_data",
          "data": {
            "image/png": "[encoded data removed]",
            "text/plain": [
              "<Figure size 432x288 with 1 Axes>"
            ]
          },
          "metadata": {}
        }
      ]
    }
  ]
}