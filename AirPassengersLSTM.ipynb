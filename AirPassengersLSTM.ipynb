{
  "nbformat": 4,
  "nbformat_minor": 0,
  "metadata": {
    "colab": {
      "name": "AirPassengersLSTM.ipynb",
      "provenance": []
    },
    "kernelspec": {
      "name": "python3",
      "display_name": "Python 3"
    },
    "language_info": {
      "name": "python"
    },
    "accelerator": "GPU"
  },
  "cells": [
    {
      "cell_type": "code",
      "metadata": {
        "id": "jXCPI9oxDP6J"
      },
      "source": [
        "import numpy as np\n",
        "import pandas as pd\n",
        "import seaborn as sns\n",
        "import matplotlib.pyplot as plt\n",
        "import math\n",
        "from keras.models import Sequential\n",
        "from keras.layers import Dense,LSTM,Flatten,ConvLSTM2D\n",
        "from sklearn.preprocessing import MinMaxScaler\n",
        "from sklearn.metrics import mean_squared_error\n",
        "plt.style.use('dark_background')"
      ],
      "execution_count": 2,
      "outputs": []
    },
    {
      "cell_type": "code",
      "metadata": {
        "colab": {
          "base_uri": "https://localhost:8080/",
          "height": 204
        },
        "id": "3FHMEd2-D3gd",
        "outputId": "0ee81250-4dbf-4657-c3e4-2ddf0dec25f0"
      },
      "source": [
        "df = pd.read_csv('AirPassengers.csv',usecols=[1])\n",
        "df.head()"
      ],
      "execution_count": 3,
      "outputs": [
        {
          "output_type": "execute_result",
          "data": {
            "text/html": [
              "<div>\n",
              "<style scoped>\n",
              "    .dataframe tbody tr th:only-of-type {\n",
              "        vertical-align: middle;\n",
              "    }\n",
              "\n",
              "    .dataframe tbody tr th {\n",
              "        vertical-align: top;\n",
              "    }\n",
              "\n",
              "    .dataframe thead th {\n",
              "        text-align: right;\n",
              "    }\n",
              "</style>\n",
              "<table border=\"1\" class=\"dataframe\">\n",
              "  <thead>\n",
              "    <tr style=\"text-align: right;\">\n",
              "      <th></th>\n",
              "      <th>#Passengers</th>\n",
              "    </tr>\n",
              "  </thead>\n",
              "  <tbody>\n",
              "    <tr>\n",
              "      <th>0</th>\n",
              "      <td>112</td>\n",
              "    </tr>\n",
              "    <tr>\n",
              "      <th>1</th>\n",
              "      <td>118</td>\n",
              "    </tr>\n",
              "    <tr>\n",
              "      <th>2</th>\n",
              "      <td>132</td>\n",
              "    </tr>\n",
              "    <tr>\n",
              "      <th>3</th>\n",
              "      <td>129</td>\n",
              "    </tr>\n",
              "    <tr>\n",
              "      <th>4</th>\n",
              "      <td>121</td>\n",
              "    </tr>\n",
              "  </tbody>\n",
              "</table>\n",
              "</div>"
            ],
            "text/plain": [
              "   #Passengers\n",
              "0          112\n",
              "1          118\n",
              "2          132\n",
              "3          129\n",
              "4          121"
            ]
          },
          "metadata": {},
          "execution_count": 3
        }
      ]
    },
    {
      "cell_type": "code",
      "metadata": {
        "colab": {
          "base_uri": "https://localhost:8080/",
          "height": 204
        },
        "id": "_8HRChPWD_KI",
        "outputId": "afff3642-286d-45ee-d742-fe279145aee7"
      },
      "source": [
        "df.rename(columns = {'#Passengers':'Passengers'}, inplace = True)\n",
        "df.head()"
      ],
      "execution_count": 4,
      "outputs": [
        {
          "output_type": "execute_result",
          "data": {
            "text/html": [
              "<div>\n",
              "<style scoped>\n",
              "    .dataframe tbody tr th:only-of-type {\n",
              "        vertical-align: middle;\n",
              "    }\n",
              "\n",
              "    .dataframe tbody tr th {\n",
              "        vertical-align: top;\n",
              "    }\n",
              "\n",
              "    .dataframe thead th {\n",
              "        text-align: right;\n",
              "    }\n",
              "</style>\n",
              "<table border=\"1\" class=\"dataframe\">\n",
              "  <thead>\n",
              "    <tr style=\"text-align: right;\">\n",
              "      <th></th>\n",
              "      <th>Passengers</th>\n",
              "    </tr>\n",
              "  </thead>\n",
              "  <tbody>\n",
              "    <tr>\n",
              "      <th>0</th>\n",
              "      <td>112</td>\n",
              "    </tr>\n",
              "    <tr>\n",
              "      <th>1</th>\n",
              "      <td>118</td>\n",
              "    </tr>\n",
              "    <tr>\n",
              "      <th>2</th>\n",
              "      <td>132</td>\n",
              "    </tr>\n",
              "    <tr>\n",
              "      <th>3</th>\n",
              "      <td>129</td>\n",
              "    </tr>\n",
              "    <tr>\n",
              "      <th>4</th>\n",
              "      <td>121</td>\n",
              "    </tr>\n",
              "  </tbody>\n",
              "</table>\n",
              "</div>"
            ],
            "text/plain": [
              "   Passengers\n",
              "0         112\n",
              "1         118\n",
              "2         132\n",
              "3         129\n",
              "4         121"
            ]
          },
          "metadata": {},
          "execution_count": 4
        }
      ]
    },
    {
      "cell_type": "code",
      "metadata": {
        "colab": {
          "base_uri": "https://localhost:8080/",
          "height": 282
        },
        "id": "Zh5rFPONEALF",
        "outputId": "7a3907e3-0483-407e-b0ff-d57e9a858ced"
      },
      "source": [
        "plt.plot(df)"
      ],
      "execution_count": 5,
      "outputs": [
        {
          "output_type": "execute_result",
          "data": {
            "text/plain": [
              "[<matplotlib.lines.Line2D at 0x7fce2ebc8690>]"
            ]
          },
          "metadata": {},
          "execution_count": 5
        },
        {
          "output_type": "display_data",
          "data": {
            "image/png": "[encoded data removed]",
            "text/plain": [
              "<Figure size 432x288 with 1 Axes>"
            ]
          },
          "metadata": {}
        }
      ]
    },
    {
      "cell_type": "code",
      "metadata": {
        "id": "uQuqS03bEF3G"
      },
      "source": [
        "dataset = df.values\n",
        "dataset = dataset.astype('float32')"
      ],
      "execution_count": 6,
      "outputs": []
    },
    {
      "cell_type": "code",
      "metadata": {
        "id": "0XJMc1eVEPZ8"
      },
      "source": [
        "scaler = MinMaxScaler(feature_range=(0,1))\n",
        "dataset = scaler.fit_transform(dataset)"
      ],
      "execution_count": 7,
      "outputs": []
    },
    {
      "cell_type": "code",
      "metadata": {
        "id": "aHizkt35Ea1g"
      },
      "source": [
        "train_size = int(len(dataset) * 0.7)\n",
        "test_size = len(dataset) - train_size\n",
        "train, test = dataset[0:train_size,:], dataset[train_size:len(dataset),:]"
      ],
      "execution_count": 8,
      "outputs": []
    },
    {
      "cell_type": "code",
      "metadata": {
        "colab": {
          "base_uri": "https://localhost:8080/"
        },
        "id": "21CLJ_0PEe-E",
        "outputId": "75f7d873-82b5-44fa-e083-fecaeb9b955e"
      },
      "source": [
        "train.shape"
      ],
      "execution_count": 9,
      "outputs": [
        {
          "output_type": "execute_result",
          "data": {
            "text/plain": [
              "(100, 1)"
            ]
          },
          "metadata": {},
          "execution_count": 9
        }
      ]
    },
    {
      "cell_type": "code",
      "metadata": {
        "colab": {
          "base_uri": "https://localhost:8080/"
        },
        "id": "MpolMipaEg6r",
        "outputId": "1e87d4f6-5f98-4f9a-e6a9-af3355f4bec7"
      },
      "source": [
        "test.shape"
      ],
      "execution_count": 10,
      "outputs": [
        {
          "output_type": "execute_result",
          "data": {
            "text/plain": [
              "(44, 1)"
            ]
          },
          "metadata": {},
          "execution_count": 10
        }
      ]
    },
    {
      "cell_type": "code",
      "metadata": {
        "id": "pBHqFDK5E2VD"
      },
      "source": [
        "def to_sequences(dataset,seq_size=1):\n",
        "  x=[]\n",
        "  y=[]\n",
        "  for i in range(len(dataset)-seq_size-1):\n",
        "    window = dataset[i:(i+seq_size),0]\n",
        "    x.append(window)\n",
        "    y.append(dataset[i+seq_size,0])\n",
        "\n",
        "  return np.array(x),np.array(y)"
      ],
      "execution_count": 11,
      "outputs": []
    },
    {
      "cell_type": "code",
      "metadata": {
        "id": "hSeBWnhZE6IQ"
      },
      "source": [
        "seq_size = 10"
      ],
      "execution_count": 12,
      "outputs": []
    },
    {
      "cell_type": "code",
      "metadata": {
        "id": "znGsu7f2E_uq"
      },
      "source": [
        "trainX,trainY=to_sequences(train,seq_size)\n",
        "testX,testY=to_sequences(test,seq_size)"
      ],
      "execution_count": 13,
      "outputs": []
    },
    {
      "cell_type": "code",
      "metadata": {
        "colab": {
          "base_uri": "https://localhost:8080/"
        },
        "id": "ZXSupazEFG0_",
        "outputId": "57541cda-183d-4c13-fb36-629bbd1e3f57"
      },
      "source": [
        "print(\"Shape of training set: {}\".format(trainX.shape))"
      ],
      "execution_count": 14,
      "outputs": [
        {
          "output_type": "stream",
          "text": [
            "Shape of training set: (89, 10)\n"
          ],
          "name": "stdout"
        }
      ]
    },
    {
      "cell_type": "code",
      "metadata": {
        "colab": {
          "base_uri": "https://localhost:8080/"
        },
        "id": "REPWUEpnFHuC",
        "outputId": "91e87b6d-78de-43c6-8612-c0846c3091f1"
      },
      "source": [
        "print(\"Shape of test set: {}\".format(testX.shape))"
      ],
      "execution_count": 15,
      "outputs": [
        {
          "output_type": "stream",
          "text": [
            "Shape of test set: (33, 10)\n"
          ],
          "name": "stdout"
        }
      ]
    },
    {
      "cell_type": "code",
      "metadata": {
        "id": "NdoUxgIcFnZt"
      },
      "source": [
        "trainX = trainX.reshape((trainX.shape[0], 1, 1, 1, seq_size))\n",
        "testX = testX.reshape((testX.shape[0], 1, 1, 1, seq_size))"
      ],
      "execution_count": 16,
      "outputs": []
    },
    {
      "cell_type": "code",
      "metadata": {
        "id": "MD8HkkrEGHCM"
      },
      "source": [
        "model = Sequential()\n",
        "model.add(ConvLSTM2D(filters=64, kernel_size=(1,1), activation='relu', input_shape=(1, 1, 1, seq_size)))\n",
        "model.add(Flatten())\n",
        "model.add(Dense(32))\n",
        "model.add(Dense(1))"
      ],
      "execution_count": 17,
      "outputs": []
    },
    {
      "cell_type": "code",
      "metadata": {
        "colab": {
          "base_uri": "https://localhost:8080/"
        },
        "id": "_bXfvNWeGMtc",
        "outputId": "5ea35aee-3d52-4c30-d17d-8672fcbc4cc9"
      },
      "source": [
        "model.summary()"
      ],
      "execution_count": 18,
      "outputs": [
        {
          "output_type": "stream",
          "text": [
            "Model: \"sequential\"\n",
            "_________________________________________________________________\n",
            "Layer (type)                 Output Shape              Param #   \n",
            "=================================================================\n",
            "conv_lst_m2d (ConvLSTM2D)    (None, 1, 1, 64)          19200     \n",
            "_________________________________________________________________\n",
            "flatten (Flatten)            (None, 64)                0         \n",
            "_________________________________________________________________\n",
            "dense (Dense)                (None, 32)                2080      \n",
            "_________________________________________________________________\n",
            "dense_1 (Dense)              (None, 1)                 33        \n",
            "=================================================================\n",
            "Total params: 21,313\n",
            "Trainable params: 21,313\n",
            "Non-trainable params: 0\n",
            "_________________________________________________________________\n"
          ],
          "name": "stdout"
        }
      ]
    },
    {
      "cell_type": "code",
      "metadata": {
        "id": "7LmXrOjGGOft"
      },
      "source": [
        "model.compile(optimizer='adam', loss='mean_squared_error')"
      ],
      "execution_count": 19,
      "outputs": []
    },
    {
      "cell_type": "code",
      "metadata": {
        "colab": {
          "base_uri": "https://localhost:8080/"
        },
        "id": "E_Ah9YCzGYKW",
        "outputId": "bf026f5d-b641-4430-d359-1433158ed067"
      },
      "source": [
        "model.fit(trainX,trainY,verbose=1, epochs=100,validation_data=(testX,testY))"
      ],
      "execution_count": 20,
      "outputs": [
        {
          "output_type": "stream",
          "text": [
            "Epoch 1/100\n",
            "3/3 [==============================] - 31s 232ms/step - loss: 0.0784 - val_loss: 0.3885\n",
            "Epoch 2/100\n",
            "3/3 [==============================] - 0s 28ms/step - loss: 0.0544 - val_loss: 0.2936\n",
            "Epoch 3/100\n",
            "3/3 [==============================] - 0s 24ms/step - loss: 0.0364 - val_loss: 0.2134\n",
            "Epoch 4/100\n",
            "3/3 [==============================] - 0s 24ms/step - loss: 0.0232 - val_loss: 0.1477\n",
            "Epoch 5/100\n",
            "3/3 [==============================] - 0s 30ms/step - loss: 0.0140 - val_loss: 0.0973\n",
            "Epoch 6/100\n",
            "3/3 [==============================] - 0s 24ms/step - loss: 0.0101 - val_loss: 0.0617\n",
            "Epoch 7/100\n",
            "3/3 [==============================] - 0s 25ms/step - loss: 0.0090 - val_loss: 0.0412\n",
            "Epoch 8/100\n",
            "3/3 [==============================] - 0s 25ms/step - loss: 0.0094 - val_loss: 0.0328\n",
            "Epoch 9/100\n",
            "3/3 [==============================] - 0s 25ms/step - loss: 0.0105 - val_loss: 0.0300\n",
            "Epoch 10/100\n",
            "3/3 [==============================] - 0s 25ms/step - loss: 0.0105 - val_loss: 0.0308\n",
            "Epoch 11/100\n",
            "3/3 [==============================] - 0s 24ms/step - loss: 0.0095 - val_loss: 0.0343\n",
            "Epoch 12/100\n",
            "3/3 [==============================] - 0s 26ms/step - loss: 0.0084 - val_loss: 0.0396\n",
            "Epoch 13/100\n",
            "3/3 [==============================] - 0s 31ms/step - loss: 0.0076 - val_loss: 0.0452\n",
            "Epoch 14/100\n",
            "3/3 [==============================] - 0s 24ms/step - loss: 0.0072 - val_loss: 0.0498\n",
            "Epoch 15/100\n",
            "3/3 [==============================] - 0s 31ms/step - loss: 0.0072 - val_loss: 0.0517\n",
            "Epoch 16/100\n",
            "3/3 [==============================] - 0s 25ms/step - loss: 0.0071 - val_loss: 0.0504\n",
            "Epoch 17/100\n",
            "3/3 [==============================] - 0s 26ms/step - loss: 0.0069 - val_loss: 0.0465\n",
            "Epoch 18/100\n",
            "3/3 [==============================] - 0s 30ms/step - loss: 0.0066 - val_loss: 0.0407\n",
            "Epoch 19/100\n",
            "3/3 [==============================] - 0s 25ms/step - loss: 0.0063 - val_loss: 0.0355\n",
            "Epoch 20/100\n",
            "3/3 [==============================] - 0s 25ms/step - loss: 0.0060 - val_loss: 0.0318\n",
            "Epoch 21/100\n",
            "3/3 [==============================] - 0s 25ms/step - loss: 0.0058 - val_loss: 0.0295\n",
            "Epoch 22/100\n",
            "3/3 [==============================] - 0s 25ms/step - loss: 0.0057 - val_loss: 0.0281\n",
            "Epoch 23/100\n",
            "3/3 [==============================] - 0s 24ms/step - loss: 0.0055 - val_loss: 0.0273\n",
            "Epoch 24/100\n",
            "3/3 [==============================] - 0s 26ms/step - loss: 0.0054 - val_loss: 0.0268\n",
            "Epoch 25/100\n",
            "3/3 [==============================] - 0s 24ms/step - loss: 0.0052 - val_loss: 0.0264\n",
            "Epoch 26/100\n",
            "3/3 [==============================] - 0s 26ms/step - loss: 0.0051 - val_loss: 0.0254\n",
            "Epoch 27/100\n",
            "3/3 [==============================] - 0s 27ms/step - loss: 0.0049 - val_loss: 0.0248\n",
            "Epoch 28/100\n",
            "3/3 [==============================] - 0s 23ms/step - loss: 0.0048 - val_loss: 0.0239\n",
            "Epoch 29/100\n",
            "3/3 [==============================] - 0s 29ms/step - loss: 0.0047 - val_loss: 0.0233\n",
            "Epoch 30/100\n",
            "3/3 [==============================] - 0s 25ms/step - loss: 0.0046 - val_loss: 0.0226\n",
            "Epoch 31/100\n",
            "3/3 [==============================] - 0s 26ms/step - loss: 0.0045 - val_loss: 0.0222\n",
            "Epoch 32/100\n",
            "3/3 [==============================] - 0s 25ms/step - loss: 0.0045 - val_loss: 0.0220\n",
            "Epoch 33/100\n",
            "3/3 [==============================] - 0s 26ms/step - loss: 0.0044 - val_loss: 0.0216\n",
            "Epoch 34/100\n",
            "3/3 [==============================] - 0s 24ms/step - loss: 0.0043 - val_loss: 0.0214\n",
            "Epoch 35/100\n",
            "3/3 [==============================] - 0s 23ms/step - loss: 0.0043 - val_loss: 0.0211\n",
            "Epoch 36/100\n",
            "3/3 [==============================] - 0s 32ms/step - loss: 0.0042 - val_loss: 0.0209\n",
            "Epoch 37/100\n",
            "3/3 [==============================] - 0s 29ms/step - loss: 0.0042 - val_loss: 0.0207\n",
            "Epoch 38/100\n",
            "3/3 [==============================] - 0s 25ms/step - loss: 0.0041 - val_loss: 0.0204\n",
            "Epoch 39/100\n",
            "3/3 [==============================] - 0s 25ms/step - loss: 0.0041 - val_loss: 0.0202\n",
            "Epoch 40/100\n",
            "3/3 [==============================] - 0s 36ms/step - loss: 0.0040 - val_loss: 0.0201\n",
            "Epoch 41/100\n",
            "3/3 [==============================] - 0s 25ms/step - loss: 0.0040 - val_loss: 0.0198\n",
            "Epoch 42/100\n",
            "3/3 [==============================] - 0s 30ms/step - loss: 0.0039 - val_loss: 0.0195\n",
            "Epoch 43/100\n",
            "3/3 [==============================] - 0s 26ms/step - loss: 0.0039 - val_loss: 0.0191\n",
            "Epoch 44/100\n",
            "3/3 [==============================] - 0s 25ms/step - loss: 0.0038 - val_loss: 0.0189\n",
            "Epoch 45/100\n",
            "3/3 [==============================] - 0s 25ms/step - loss: 0.0038 - val_loss: 0.0188\n",
            "Epoch 46/100\n",
            "3/3 [==============================] - 0s 24ms/step - loss: 0.0037 - val_loss: 0.0186\n",
            "Epoch 47/100\n",
            "3/3 [==============================] - 0s 27ms/step - loss: 0.0037 - val_loss: 0.0185\n",
            "Epoch 48/100\n",
            "3/3 [==============================] - 0s 25ms/step - loss: 0.0036 - val_loss: 0.0182\n",
            "Epoch 49/100\n",
            "3/3 [==============================] - 0s 25ms/step - loss: 0.0036 - val_loss: 0.0177\n",
            "Epoch 50/100\n",
            "3/3 [==============================] - 0s 25ms/step - loss: 0.0035 - val_loss: 0.0175\n",
            "Epoch 51/100\n",
            "3/3 [==============================] - 0s 29ms/step - loss: 0.0035 - val_loss: 0.0174\n",
            "Epoch 52/100\n",
            "3/3 [==============================] - 0s 26ms/step - loss: 0.0034 - val_loss: 0.0170\n",
            "Epoch 53/100\n",
            "3/3 [==============================] - 0s 23ms/step - loss: 0.0033 - val_loss: 0.0168\n",
            "Epoch 54/100\n",
            "3/3 [==============================] - 0s 25ms/step - loss: 0.0033 - val_loss: 0.0166\n",
            "Epoch 55/100\n",
            "3/3 [==============================] - 0s 29ms/step - loss: 0.0033 - val_loss: 0.0166\n",
            "Epoch 56/100\n",
            "3/3 [==============================] - 0s 31ms/step - loss: 0.0032 - val_loss: 0.0162\n",
            "Epoch 57/100\n",
            "3/3 [==============================] - 0s 25ms/step - loss: 0.0032 - val_loss: 0.0157\n",
            "Epoch 58/100\n",
            "3/3 [==============================] - 0s 26ms/step - loss: 0.0031 - val_loss: 0.0155\n",
            "Epoch 59/100\n",
            "3/3 [==============================] - 0s 27ms/step - loss: 0.0031 - val_loss: 0.0157\n",
            "Epoch 60/100\n",
            "3/3 [==============================] - 0s 25ms/step - loss: 0.0030 - val_loss: 0.0157\n",
            "Epoch 61/100\n",
            "3/3 [==============================] - 0s 27ms/step - loss: 0.0030 - val_loss: 0.0154\n",
            "Epoch 62/100\n",
            "3/3 [==============================] - 0s 25ms/step - loss: 0.0029 - val_loss: 0.0150\n",
            "Epoch 63/100\n",
            "3/3 [==============================] - 0s 24ms/step - loss: 0.0029 - val_loss: 0.0144\n",
            "Epoch 64/100\n",
            "3/3 [==============================] - 0s 25ms/step - loss: 0.0029 - val_loss: 0.0147\n",
            "Epoch 65/100\n",
            "3/3 [==============================] - 0s 33ms/step - loss: 0.0028 - val_loss: 0.0142\n",
            "Epoch 66/100\n",
            "3/3 [==============================] - 0s 27ms/step - loss: 0.0028 - val_loss: 0.0142\n",
            "Epoch 67/100\n",
            "3/3 [==============================] - 0s 26ms/step - loss: 0.0027 - val_loss: 0.0142\n",
            "Epoch 68/100\n",
            "3/3 [==============================] - 0s 31ms/step - loss: 0.0027 - val_loss: 0.0142\n",
            "Epoch 69/100\n",
            "3/3 [==============================] - 0s 25ms/step - loss: 0.0027 - val_loss: 0.0139\n",
            "Epoch 70/100\n",
            "3/3 [==============================] - 0s 29ms/step - loss: 0.0026 - val_loss: 0.0130\n",
            "Epoch 71/100\n",
            "3/3 [==============================] - 0s 23ms/step - loss: 0.0027 - val_loss: 0.0125\n",
            "Epoch 72/100\n",
            "3/3 [==============================] - 0s 25ms/step - loss: 0.0026 - val_loss: 0.0136\n",
            "Epoch 73/100\n",
            "3/3 [==============================] - 0s 25ms/step - loss: 0.0026 - val_loss: 0.0138\n",
            "Epoch 74/100\n",
            "3/3 [==============================] - 0s 26ms/step - loss: 0.0025 - val_loss: 0.0128\n",
            "Epoch 75/100\n",
            "3/3 [==============================] - 0s 27ms/step - loss: 0.0025 - val_loss: 0.0125\n",
            "Epoch 76/100\n",
            "3/3 [==============================] - 0s 27ms/step - loss: 0.0025 - val_loss: 0.0120\n",
            "Epoch 77/100\n",
            "3/3 [==============================] - 0s 23ms/step - loss: 0.0025 - val_loss: 0.0118\n",
            "Epoch 78/100\n",
            "3/3 [==============================] - 0s 30ms/step - loss: 0.0024 - val_loss: 0.0123\n",
            "Epoch 79/100\n",
            "3/3 [==============================] - 0s 28ms/step - loss: 0.0024 - val_loss: 0.0123\n",
            "Epoch 80/100\n",
            "3/3 [==============================] - 0s 24ms/step - loss: 0.0024 - val_loss: 0.0126\n",
            "Epoch 81/100\n",
            "3/3 [==============================] - 0s 26ms/step - loss: 0.0024 - val_loss: 0.0120\n",
            "Epoch 82/100\n",
            "3/3 [==============================] - 0s 25ms/step - loss: 0.0023 - val_loss: 0.0114\n",
            "Epoch 83/100\n",
            "3/3 [==============================] - 0s 23ms/step - loss: 0.0023 - val_loss: 0.0111\n",
            "Epoch 84/100\n",
            "3/3 [==============================] - 0s 28ms/step - loss: 0.0023 - val_loss: 0.0113\n",
            "Epoch 85/100\n",
            "3/3 [==============================] - 0s 24ms/step - loss: 0.0022 - val_loss: 0.0116\n",
            "Epoch 86/100\n",
            "3/3 [==============================] - 0s 24ms/step - loss: 0.0022 - val_loss: 0.0123\n",
            "Epoch 87/100\n",
            "3/3 [==============================] - 0s 32ms/step - loss: 0.0022 - val_loss: 0.0112\n",
            "Epoch 88/100\n",
            "3/3 [==============================] - 0s 28ms/step - loss: 0.0023 - val_loss: 0.0102\n",
            "Epoch 89/100\n",
            "3/3 [==============================] - 0s 26ms/step - loss: 0.0022 - val_loss: 0.0111\n",
            "Epoch 90/100\n",
            "3/3 [==============================] - 0s 27ms/step - loss: 0.0021 - val_loss: 0.0117\n",
            "Epoch 91/100\n",
            "3/3 [==============================] - 0s 24ms/step - loss: 0.0021 - val_loss: 0.0115\n",
            "Epoch 92/100\n",
            "3/3 [==============================] - 0s 26ms/step - loss: 0.0021 - val_loss: 0.0108\n",
            "Epoch 93/100\n",
            "3/3 [==============================] - 0s 24ms/step - loss: 0.0021 - val_loss: 0.0107\n",
            "Epoch 94/100\n",
            "3/3 [==============================] - 0s 24ms/step - loss: 0.0021 - val_loss: 0.0102\n",
            "Epoch 95/100\n",
            "3/3 [==============================] - 0s 35ms/step - loss: 0.0021 - val_loss: 0.0101\n",
            "Epoch 96/100\n",
            "3/3 [==============================] - 0s 26ms/step - loss: 0.0020 - val_loss: 0.0110\n",
            "Epoch 97/100\n",
            "3/3 [==============================] - 0s 25ms/step - loss: 0.0020 - val_loss: 0.0116\n",
            "Epoch 98/100\n",
            "3/3 [==============================] - 0s 28ms/step - loss: 0.0020 - val_loss: 0.0111\n",
            "Epoch 99/100\n",
            "3/3 [==============================] - 0s 25ms/step - loss: 0.0020 - val_loss: 0.0097\n",
            "Epoch 100/100\n",
            "3/3 [==============================] - 0s 27ms/step - loss: 0.0020 - val_loss: 0.0092\n"
          ],
          "name": "stdout"
        },
        {
          "output_type": "execute_result",
          "data": {
            "text/plain": [
              "<keras.callbacks.History at 0x7fce20689350>"
            ]
          },
          "metadata": {},
          "execution_count": 20
        }
      ]
    },
    {
      "cell_type": "code",
      "metadata": {
        "id": "MzW6AsqKGmaf"
      },
      "source": [
        "trainPredict = model.predict(trainX)\n",
        "testPredict = model.predict(testX)"
      ],
      "execution_count": 21,
      "outputs": []
    },
    {
      "cell_type": "code",
      "metadata": {
        "id": "yIqA56ONGtVR"
      },
      "source": [
        "trainPredict = scaler.inverse_transform(trainPredict)\n",
        "trainY = scaler.inverse_transform([trainY])\n",
        "testPredict = scaler.inverse_transform(testPredict)\n",
        "testY = scaler.inverse_transform([testY])"
      ],
      "execution_count": 22,
      "outputs": []
    },
    {
      "cell_type": "code",
      "metadata": {
        "colab": {
          "base_uri": "https://localhost:8080/"
        },
        "id": "bZoiEmMaGxLw",
        "outputId": "c8ad1e8e-3bfb-4daf-bb96-ca3f511a6ebe"
      },
      "source": [
        "trainScore = math.sqrt(mean_squared_error(trainY[0], trainPredict[:,0]))\n",
        "print('Train Score: %.2f RMSE' % (trainScore))"
      ],
      "execution_count": 23,
      "outputs": [
        {
          "output_type": "stream",
          "text": [
            "Train Score: 23.00 RMSE\n"
          ],
          "name": "stdout"
        }
      ]
    },
    {
      "cell_type": "code",
      "metadata": {
        "colab": {
          "base_uri": "https://localhost:8080/"
        },
        "id": "sqBwHDArG1l6",
        "outputId": "edfe3ba8-cf67-4434-c4cd-f78575657664"
      },
      "source": [
        "testScore = math.sqrt(mean_squared_error(testY[0], testPredict[:,0]))\n",
        "print('Test Score: %.2f RMSE' % (testScore))"
      ],
      "execution_count": 24,
      "outputs": [
        {
          "output_type": "stream",
          "text": [
            "Test Score: 49.71 RMSE\n"
          ],
          "name": "stdout"
        }
      ]
    },
    {
      "cell_type": "code",
      "metadata": {
        "id": "c3yeERniG5hQ"
      },
      "source": [
        "trainPredictPlot = np.empty_like(dataset)\n",
        "trainPredictPlot[:, :] = np.nan\n",
        "trainPredictPlot[seq_size:len(trainPredict)+seq_size, :] = trainPredict"
      ],
      "execution_count": 25,
      "outputs": []
    },
    {
      "cell_type": "code",
      "metadata": {
        "id": "OTF7w7kWG9Pu"
      },
      "source": [
        "testPredictPlot = np.empty_like(dataset)\n",
        "testPredictPlot[:, :] = np.nan\n",
        "testPredictPlot[len(trainPredict)+(seq_size*2)+1:len(dataset)-1, :] = testPredict"
      ],
      "execution_count": 26,
      "outputs": []
    },
    {
      "cell_type": "code",
      "metadata": {
        "colab": {
          "base_uri": "https://localhost:8080/",
          "height": 265
        },
        "id": "yBlEkt70G_RR",
        "outputId": "7863c92f-d924-4653-a6d6-5893cdbce34b"
      },
      "source": [
        "plt.plot(scaler.inverse_transform(dataset))\n",
        "plt.plot(trainPredictPlot)\n",
        "plt.plot(testPredictPlot)\n",
        "plt.show()"
      ],
      "execution_count": 27,
      "outputs": [
        {
          "output_type": "display_data",
          "data": {
            "image/png": "[encoded data removed]",
            "text/plain": [
              "<Figure size 432x288 with 1 Axes>"
            ]
          },
          "metadata": {}
        }
      ]
    }
  ]
}